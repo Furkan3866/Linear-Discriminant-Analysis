{
 "cells": [
  {
   "cell_type": "code",
   "execution_count": 24,
   "id": "dccbe634",
   "metadata": {},
   "outputs": [],
   "source": [
    "import pandas as pd \n",
    "import numpy as np \n",
    "from sklearn.model_selection import train_test_split\n",
    "from sklearn.preprocessing import StandardScaler\n",
    "from sklearn.discriminant_analysis import LinearDiscriminantAnalysis"
   ]
  },
  {
   "cell_type": "code",
   "execution_count": 7,
   "id": "678ceddb",
   "metadata": {},
   "outputs": [],
   "source": [
    "data=pd.read_csv(\"C:/Users/TUNCER/Desktop/winequality-red.csv\")"
   ]
  },
  {
   "cell_type": "code",
   "execution_count": 13,
   "id": "9c0d39f0",
   "metadata": {},
   "outputs": [],
   "source": [
    "veri=data.copy()"
   ]
  },
  {
   "cell_type": "code",
   "execution_count": 14,
   "id": "a844c9c1",
   "metadata": {},
   "outputs": [],
   "source": [
    "y=veri[\"quality\"]\n",
    "X=veri.drop(columns=\"quality\",axis=1)"
   ]
  },
  {
   "cell_type": "code",
   "execution_count": 16,
   "id": "3cc0791c",
   "metadata": {},
   "outputs": [],
   "source": [
    "X_train,X_test,y_train,y_test=train_test_split(X,y,test_size=0.2,random_state=42)"
   ]
  },
  {
   "cell_type": "code",
   "execution_count": 21,
   "id": "110ff09e",
   "metadata": {},
   "outputs": [],
   "source": [
    "sc=StandardScaler()\n",
    "X_train=sc.fit_transform(X_train)\n",
    "X_test=sc.transform(X_test)"
   ]
  },
  {
   "cell_type": "code",
   "execution_count": 30,
   "id": "d0518a5b",
   "metadata": {},
   "outputs": [
    {
     "name": "stdout",
     "output_type": "stream",
     "text": [
      "[ 85.03158458  94.47170698  98.20710389  99.56831945 100.        ]\n",
      "6\n"
     ]
    }
   ],
   "source": [
    "lda=LinearDiscriminantAnalysis(n_components=5)\n",
    "\n",
    "X_train2=lda.fit_transform(X_train,y_train)\n",
    "X_test2=lda.transform(X_test)\n",
    "\n",
    "print(np.cumsum(lda.explained_variance_ratio_)*100)\n",
    "print(len(np.unique(y_train)))"
   ]
  },
  {
   "cell_type": "code",
   "execution_count": null,
   "id": "002c5e3a",
   "metadata": {},
   "outputs": [],
   "source": []
  }
 ],
 "metadata": {
  "kernelspec": {
   "display_name": "Python 3",
   "language": "python",
   "name": "python3"
  },
  "language_info": {
   "codemirror_mode": {
    "name": "ipython",
    "version": 3
   },
   "file_extension": ".py",
   "mimetype": "text/x-python",
   "name": "python",
   "nbconvert_exporter": "python",
   "pygments_lexer": "ipython3",
   "version": "3.8.8"
  }
 },
 "nbformat": 4,
 "nbformat_minor": 5
}
